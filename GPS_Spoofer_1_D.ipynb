{
  "nbformat": 4,
  "nbformat_minor": 0,
  "metadata": {
    "colab": {
      "name": "GPS_Spoofer 1-D.ipynb",
      "provenance": [],
      "collapsed_sections": [
        "5lLNkje_qukO",
        "hFsLdtgmrA_E"
      ]
    },
    "kernelspec": {
      "name": "python3",
      "display_name": "Python 3"
    },
    "language_info": {
      "name": "python"
    }
  },
  "cells": [
    {
      "cell_type": "code",
      "execution_count": 104,
      "metadata": {
        "id": "0Ru4RDBqJF-b"
      },
      "outputs": [],
      "source": [
        "%matplotlib inline\n",
        "import matplotlib\n",
        "import matplotlib.pyplot as plt\n",
        "import numpy as np\n",
        "import IPython"
      ]
    },
    {
      "cell_type": "code",
      "source": [
        "plt.rcParams[\"figure.figsize\"] = (14,4)"
      ],
      "metadata": {
        "id": "iD1epLYBNx8y"
      },
      "execution_count": 105,
      "outputs": []
    },
    {
      "cell_type": "code",
      "source": [
        "# using time module\n",
        "import time\n",
        "  \n",
        "# ts stores the time in seconds\n",
        "ts = time.time()\n",
        "  \n",
        "# print the current timestamp\n",
        "print(ts)"
      ],
      "metadata": {
        "colab": {
          "base_uri": "https://localhost:8080/"
        },
        "id": "76MA403y-8Mj",
        "outputId": "056b4d97-a99f-4527-b260-5324d5719a81"
      },
      "execution_count": 106,
      "outputs": [
        {
          "output_type": "stream",
          "name": "stdout",
          "text": [
            "1655500581.3547916\n"
          ]
        }
      ]
    },
    {
      "cell_type": "markdown",
      "source": [
        "##Creating Time stamp info"
      ],
      "metadata": {
        "id": "cnek5T-EOdJe"
      }
    },
    {
      "cell_type": "code",
      "source": [
        "def time_int(ts):\n",
        "    Time = ts%(100) #Coding upto 100s to limit navigation message to 50 bits\n",
        "    Time = int(Time*(10**12)) #Precision upto picoseconds\n",
        "    #print(Time)\n",
        "    return Time"
      ],
      "metadata": {
        "id": "S4iCqlPuJ2l3"
      },
      "execution_count": 79,
      "outputs": []
    },
    {
      "cell_type": "code",
      "source": [
        "def TimeStamp(Time):\n",
        "    TimeBin = bin(Time).replace(\"0b\", \"\")\n",
        "\n",
        "    def Convert(string):\n",
        "        list1=[]\n",
        "        list1[:0]=string\n",
        "        return list1\n",
        "    Tlist = Convert(TimeBin)\n",
        "    Tlist = list(map(int, Tlist))\n",
        "\n",
        "    for i in range (50 - len(Tlist)): #Padding zeroes\n",
        "        Tlist.insert(0,0)\n",
        "\n",
        "    for i in range(50):\n",
        "        if Tlist[i]==0:\n",
        "            Tlist[i]=-1\n",
        "    #plt.stem(Tlist)\n",
        "    return(Tlist) #Time stamp generated\n"
      ],
      "metadata": {
        "id": "wdZTvD-f_jdS"
      },
      "execution_count": 89,
      "outputs": []
    },
    {
      "cell_type": "markdown",
      "source": [
        "##Gold Sequence"
      ],
      "metadata": {
        "id": "5lLNkje_qukO"
      }
    },
    {
      "cell_type": "code",
      "source": [
        "class LFSR:\n",
        "\n",
        "    def __init__(self, taps, init_register, output=None, samples_per_frame=None, matlab=False):\n",
        "        if taps[-1] != 0:\n",
        "            raise AttributeError(\"The first and last taps must be connected.\")\n",
        "        if taps[0] != len(init_register):\n",
        "            raise AttributeError(\"The first and last taps must be connected.\")\n",
        "        if output is None:\n",
        "            output = [len(init_register)]\n",
        "        if any([((i > len(init_register)) | (i < 1)) for i in output]):\n",
        "            raise AttributeError(\"The output tap(s) must exist!\")\n",
        "\n",
        "        if samples_per_frame is None:\n",
        "            self.samples = 2**len(init_register) - 1\n",
        "        else:\n",
        "            self.samples = samples_per_frame\n",
        "\n",
        "        self.init_register = init_register.copy()\n",
        "        self.register = init_register.copy()\n",
        "        self.output = output\n",
        "        if matlab:\n",
        "            self.taps = [taps[0] - tap for tap in reversed(taps)]\n",
        "            self.taps = self.taps[:-1]\n",
        "        else:\n",
        "            self.taps = taps[:-1]\n",
        "        self.cycled_through = False\n",
        "\n",
        "    def reset(self):\n",
        "        self.register = self.init_register.copy()\n",
        "\n",
        "    def step(self):\n",
        "        frame = []\n",
        "        for _ in range(self.samples):\n",
        "            frame.append(self.shift())\n",
        "        return frame\n",
        "\n",
        "    def shift(self):\n",
        "        out = [self.register[i-1] for i in self.output]\n",
        "        if len(out) > 1:\n",
        "            out = sum(out) % 2\n",
        "        else:\n",
        "            out = out[0]\n",
        "\n",
        "        feedback = sum([self.register[i-1] for i in self.taps]) % 2\n",
        "        for i in reversed(range(len(self.register) - 1)):\n",
        "            self.register[i+1] = self.register[i]\n",
        "\n",
        "        self.register[0] = feedback\n",
        "        if self.register == self.init_register:\n",
        "            self.cycled_through = True\n",
        "        return out\n",
        "\n",
        "\n",
        "class Gold:\n",
        "\n",
        "    def __init__(self, first_polynomial, first_initial_conditions,\n",
        "                 second_polynomial, second_initial_conditions,\n",
        "                 samples_per_frame=None, index=0, matlab=False, debug=False):\n",
        "        self.mls1 = LFSR(first_polynomial, first_initial_conditions, samples_per_frame=samples_per_frame, matlab=matlab)\n",
        "        self.mls2 = LFSR(second_polynomial, second_initial_conditions, samples_per_frame=samples_per_frame, matlab=matlab)\n",
        "        self.index = index\n",
        "        self.cycled_through = False\n",
        "        self.debug = debug\n",
        "\n",
        "    def step(self):\n",
        "        u = self.mls1.step()\n",
        "        v = np.roll(self.mls2.step(), -self.index).tolist()\n",
        "        g = (np.logical_xor(u, v) * 1).tolist()\n",
        "        if self.debug:\n",
        "            print(\"u = {}\\nv = {}\\nG = {}\".format(u, v, g))\n",
        "        if self.mls1.cycled_through or self.mls2.cycled_through:\n",
        "            self.cycled_through = True\n",
        "        return g\n",
        "\n",
        "    def reset(self):\n",
        "        self.mls1.reset()\n",
        "        self.mls2.reset()\n",
        "\n",
        "\n",
        "if __name__ == \"__main__\":\n",
        "\n",
        "    # Gold sequence\n",
        "    init = [0, 0, 0, 0, 0, 0, 0, 1, 0, 0]\n",
        "\n",
        "    poly1 = [10, 6, 5, 3, 0]\n",
        "    poly2 = [10, 6, 5, 2, 0]\n",
        "    frame_length = 2**len(init) - 1     # Maximum length before the code repeats itself.\n",
        "\n",
        "    gold = Gold(poly1, init, poly2, init, matlab=True)\n",
        "    gold_sequence = gold.step()"
      ],
      "metadata": {
        "id": "eCpczJRbU8B6"
      },
      "execution_count": 111,
      "outputs": []
    },
    {
      "cell_type": "markdown",
      "source": [
        "##Creating PRN"
      ],
      "metadata": {
        "id": "hFsLdtgmrA_E"
      }
    },
    {
      "cell_type": "code",
      "source": [
        "def PRN(gold_sequence, b):\n",
        "    c = []\n",
        "    for i in range(20):\n",
        "        c+=gold_sequence\n",
        "    prn = []\n",
        "    for i in range(50):\n",
        "        if b[i] == 1:\n",
        "            prn+= c\n",
        "        else:\n",
        "            prn += np.negative(c).tolist()\n",
        "    return prn"
      ],
      "metadata": {
        "id": "fyD7jrPnlXGR"
      },
      "execution_count": 112,
      "outputs": []
    },
    {
      "cell_type": "markdown",
      "source": [
        "##Creating GPS signal\n",
        "###To create transmitted signal, multiply above sequence with cosine of freq. 1575.42 MHz. For simulation purposes, this step is unnecessary.\n"
      ],
      "metadata": {
        "id": "pgmJiNH12KIn"
      }
    },
    {
      "cell_type": "code",
      "source": [
        "def GPS_Signal(Time,gold_sequence):\n",
        "    b = TimeStamp(Time)\n",
        "    gps_signal = PRN(gold_sequence, b)\n",
        "    return gps_signal"
      ],
      "metadata": {
        "id": "KyJUtzSO1hGL"
      },
      "execution_count": 86,
      "outputs": []
    },
    {
      "cell_type": "markdown",
      "source": [
        "##GPS detector\n",
        "###Assuming the detector is placed at a distance of 20,200 Km, i.e 0.0673 light seconds which is the origin of our coordinate system"
      ],
      "metadata": {
        "id": "MjKSZrhjO2ib"
      }
    },
    {
      "cell_type": "code",
      "source": [
        "def time_detector(Time):\n",
        "    Time_d = Time + 67333333333\n",
        "    return Time_d"
      ],
      "metadata": {
        "id": "a0d1Hi_0PLc5"
      },
      "execution_count": 87,
      "outputs": []
    },
    {
      "cell_type": "code",
      "source": [
        "def Detector(gps_signal, Time):\n",
        "    gps_tlist = []\n",
        "    for i in range(50):\n",
        "        for x in range(20460*i, 20460*(i+1)):\n",
        "            if(gps_signal[x] ==1):\n",
        "                gps_tlist.append(1)\n",
        "                break\n",
        "            if(gps_signal[x]==-1):\n",
        "                gps_tlist.append(0)\n",
        "                break\n",
        "    #plt.stem(gps_tlist)\n",
        "\n",
        "    s = [str(i) for i in gps_tlist]\n",
        "    res = str(\"\".join(s))\n",
        "    signal_time = int(res,2)\n",
        "    \n",
        "    #print(signal_time)\n",
        "\n",
        "    distance = (((Time - signal_time)*3/(10**7)) - 20200)*1000\n",
        "    return(distance)\n"
      ],
      "metadata": {
        "id": "T6atglbxO2BG"
      },
      "execution_count": 102,
      "outputs": []
    },
    {
      "cell_type": "markdown",
      "source": [
        "##Testing Detector function"
      ],
      "metadata": {
        "id": "6HL7KTcVA2Ay"
      }
    },
    {
      "cell_type": "code",
      "source": [
        "Time = time_int(ts)\n",
        "gps_signal = GPS_Signal(Time,gold_sequence)\n",
        "Time_d = time_detector(Time)\n",
        "\n",
        "\n",
        "dist = Detector(gps_signal,Time_d)\n",
        "print(dist)  #Minimal error due to conversion from float to int, precise upto millimeter range"
      ],
      "metadata": {
        "colab": {
          "base_uri": "https://localhost:8080/"
        },
        "id": "Wx4BMv9hAx3b",
        "outputId": "91c03835-22be-4a19-beca-8c1f1ada46cf"
      },
      "execution_count": 107,
      "outputs": [
        {
          "output_type": "stream",
          "name": "stdout",
          "text": [
            "-0.000100000761449337\n"
          ]
        }
      ]
    },
    {
      "cell_type": "markdown",
      "source": [
        "##Spoofer \n",
        "### Given a co-ordinate, spoofer should be able to create a GPS signal with desired time stamp"
      ],
      "metadata": {
        "id": "-2OUWwROBQ8s"
      }
    },
    {
      "cell_type": "code",
      "source": [
        "def Spoofer(dist):\n",
        "    Time = time_int(ts)\n",
        "    Time = Time - 67333333333 - (dist/3)*(10**4) #Subtracting the propagation time from Earth to satellite and the time taken to cover extra distance\n",
        "    gps_signal = GPS_Signal(int(Time),gold_sequence)\n",
        "\n",
        "    return(gps_signal)"
      ],
      "metadata": {
        "id": "YrGTtlKYBI_D"
      },
      "execution_count": 100,
      "outputs": []
    },
    {
      "cell_type": "code",
      "source": [
        "Spoofed_dist = 50   #Meters\n",
        "gps_signal_spoofed = Spoofer(Spoofed_dist)\n",
        "\n",
        "dist = Detector(gps_signal_spoofed,Time)\n",
        "print(dist) #Fairly accurate "
      ],
      "metadata": {
        "colab": {
          "base_uri": "https://localhost:8080/"
        },
        "id": "BFdTj_0bHBxR",
        "outputId": "b0b58c5c-f489-4dea-c9de-88fd2884c71a"
      },
      "execution_count": 110,
      "outputs": [
        {
          "output_type": "stream",
          "name": "stdout",
          "text": [
            "49.999999999272404\n"
          ]
        }
      ]
    }
  ]
}