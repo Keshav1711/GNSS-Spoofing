{
 "cells": [
  {
   "cell_type": "markdown",
   "id": "d35f3436",
   "metadata": {},
   "source": [
    "# Subframe 1 (300 bits)\n",
    "\n",
    "![sub](Subframe1.png)"
   ]
  },
  {
   "cell_type": "code",
   "execution_count": 16,
   "id": "d68802c6",
   "metadata": {},
   "outputs": [],
   "source": [
    "%matplotlib inline\n",
    "import matplotlib\n",
    "import matplotlib.pyplot as plt\n",
    "import numpy as np\n",
    "import IPython\n",
    "\n",
    "\n",
    "plt.rcParams[\"figure.figsize\"] = (14,4)"
   ]
  },
  {
   "cell_type": "markdown",
   "id": "12cc8fcf",
   "metadata": {},
   "source": [
    "## Parity \n",
    "\n",
    "![](Parity.png)"
   ]
  },
  {
   "cell_type": "code",
   "execution_count": 85,
   "id": "99436fe6",
   "metadata": {},
   "outputs": [],
   "source": [
    "def parity(D1,D0 = np.zeros(30, dtype = int)): # Initialize D* as zeros, incase of TLM\n",
    "    t = D1.copy()\n",
    "    if D0[29] == 1:\n",
    "        t[0:24] = t[0:24] ^ np.ones(24,dtype = int) # Complementing bits before transmission\n",
    "    \n",
    "    t[24] = D0[28] ^ D1[0] ^ D1[1] ^ D1[2] ^ D1[4] ^ D1[5] ^ D1[9] ^ D1[10] ^ D1[11] ^ D1[12] ^ D1[13] ^ D1[16] ^ D1[17] ^ D1[19] ^ D1[22]\n",
    "    t[25] = D0[29] ^ D1[1] ^ D1[2] ^ D1[3] ^ D1[5] ^ D1[6] ^ D1[10] ^ D1[11] ^ D1[12] ^ D1[13] ^ D1[14] ^ D1[17] ^ D1[18] ^ D1[20] ^ D1[23]\n",
    "    t[26] = D0[28] ^ D1[0] ^ D1[2] ^ D1[3] ^ D1[4] ^ D1[6] ^ D1[7] ^ D1[11] ^ D1[12] ^ D1[13] ^ D1[14] ^ D1[15] ^ D1[18] ^ D1[19] ^ D1[21]\n",
    "    t[27] = D0[29] ^ D1[1] ^ D1[3] ^ D1[4] ^ D1[6] ^ D1[7] ^ D1[8] ^ D1[12] ^ D1[13] ^ D1[14] ^ D1[15] ^ D1[16] ^ D1[19] ^ D1[20] ^ D1[22]\n",
    "    t[28] = D0[29] ^ D1[0] ^ D1[2] ^ D1[4] ^ D1[5] ^ D1[6] ^ D1[8] ^ D1[9] ^ D1[13] ^ D1[14] ^ D1[15] ^ D1[16] ^ D1[17] ^ D1[20] ^ D1[21] ^ D1[23]\n",
    "    t[29] = D0[28] ^ D1[2] ^ D1[4] ^ D1[5] ^ D1[7] ^ D1[8] ^ D1[9] ^ D1[10] ^ D1[12] ^ D1[14] ^ D1[19] ^ D1[21] ^ D1[22] ^ D1[23]\n",
    "    \n",
    "    return(t)\n",
    "    \n",
    "    \n",
    "    "
   ]
  },
  {
   "cell_type": "markdown",
   "id": "35d7dafd",
   "metadata": {},
   "source": [
    "## Telemetry\n",
    "### First word in every subframe (30 bits)\n",
    "        \n",
    "![](GPS_Data.png)\n",
    "![](TLM.png)     "
   ]
  },
  {
   "cell_type": "code",
   "execution_count": 86,
   "id": "fe120983",
   "metadata": {
    "scrolled": false
   },
   "outputs": [],
   "source": [
    "def TLM_F():\n",
    "    TLM = np.zeros(30, dtype = int)\n",
    "    TLM[0:8] = [1,0,0,0,1,0,1,1] #Preamble\n",
    "    TLM[22] = 0 #Integrity status flag, read document\n",
    "    TLM[23] = 0 # Reserved bit\n",
    "    # TLM bits 9 to 22 are reserved have to find more data on it\n",
    "    TLM = parity(TLM)\n",
    "    \n",
    "    return(TLM)"
   ]
  },
  {
   "cell_type": "code",
   "execution_count": 87,
   "id": "26458c71",
   "metadata": {
    "scrolled": false
   },
   "outputs": [
    {
     "data": {
      "text/plain": [
       "<StemContainer object of 3 artists>"
      ]
     },
     "execution_count": 87,
     "metadata": {},
     "output_type": "execute_result"
    },
    {
     "data": {
      "image/png": "[encoded data removed]",
      "text/plain": [
       "<Figure size 1008x288 with 1 Axes>"
      ]
     },
     "metadata": {
      "needs_background": "light"
     },
     "output_type": "display_data"
    }
   ],
   "source": [
    "TLM = TLM_F()\n",
    "plt.stem(TLM)"
   ]
  },
  {
   "cell_type": "markdown",
   "id": "fe9b0da0",
   "metadata": {},
   "source": [
    "## GPS Time \n",
    "### Using an open source package to obtain gps time and Time of Week \n",
    "### Use pip install gps-time \n",
    "\n",
    "### refer to IS-GPS-200L.pdf pages 36-37 \n",
    "\n",
    "![](GPS_time.png)"
   ]
  },
  {
   "cell_type": "code",
   "execution_count": 17,
   "id": "93bf07ea",
   "metadata": {},
   "outputs": [],
   "source": [
    "import datetime\n",
    "from gps_time.core import GPSTime"
   ]
  },
  {
   "cell_type": "code",
   "execution_count": 78,
   "id": "da9c5da2",
   "metadata": {},
   "outputs": [],
   "source": [
    "def GPS_time(): # Returns week number and TOW based on gps time\n",
    "    gps_time = GPSTime.from_datetime(datetime.datetime.now())\n",
    "    TOW = gps_time.time_of_week\n",
    "    week = gps_time.week_number\n",
    "    return(week,TOW)"
   ]
  },
  {
   "cell_type": "code",
   "execution_count": 79,
   "id": "dfa4db02",
   "metadata": {},
   "outputs": [],
   "source": [
    "def X1_epochs(Time_of_week): # X1 epochs\n",
    "    X1 = Time_of_week/1.5\n",
    "    X1 = int(X1)\n",
    "    return X1"
   ]
  },
  {
   "cell_type": "code",
   "execution_count": 80,
   "id": "ca2bc067",
   "metadata": {},
   "outputs": [],
   "source": [
    "def Convert(string): # String to list\n",
    "    list1=[]\n",
    "    list1[:0]=string\n",
    "    return list1"
   ]
  },
  {
   "cell_type": "code",
   "execution_count": 81,
   "id": "8e740f57",
   "metadata": {},
   "outputs": [],
   "source": [
    "def int_to_bin(old_int, n):   # n is length of binary sequence, for TOW count its 19, for week no. it's 10 (12)\n",
    "    TimeBin = bin(old_int).replace(\"0b\", \"\")\n",
    "\n",
    "    \n",
    "    Tlist = Convert(TimeBin)\n",
    "    Tlist = list(map(int, Tlist))\n",
    "\n",
    "    for i in range (n - len(Tlist)): #Padding zeroes\n",
    "        Tlist.insert(0,0)\n",
    "    #plt.stem(Tlist)\n",
    "    return(Tlist) #Time stamp generated"
   ]
  },
  {
   "cell_type": "code",
   "execution_count": 88,
   "id": "436f533a",
   "metadata": {},
   "outputs": [],
   "source": [
    "def Z_count_F():\n",
    "    Z_count = np.zeros(31, dtype = int) #length is 31\n",
    "    week,TOW = GPS_time()\n",
    "    X1 = X1_epochs(TOW) # Converting TOW to X1 epochs\n",
    "    week_bin = int_to_bin(week,12)\n",
    "    X1_bin = int_to_bin(X1,19)\n",
    "    Z_count = week_bin + X1_bin\n",
    "    return(Z_count)"
   ]
  },
  {
   "cell_type": "code",
   "execution_count": 89,
   "id": "c9709f59",
   "metadata": {},
   "outputs": [
    {
     "data": {
      "text/plain": [
       "<StemContainer object of 3 artists>"
      ]
     },
     "execution_count": 89,
     "metadata": {},
     "output_type": "execute_result"
    },
    {
     "data": {
      "image/png": "[encoded data removed]",
      "text/plain": [
       "<Figure size 1008x288 with 1 Axes>"
      ]
     },
     "metadata": {
      "needs_background": "light"
     },
     "output_type": "display_data"
    }
   ],
   "source": [
    "plt.stem(Z_count_F())"
   ]
  },
  {
   "cell_type": "markdown",
   "id": "0f786d3d",
   "metadata": {},
   "source": [
    "## Handover Words\n",
    "\n",
    "![](HOW.png)\n"
   ]
  },
  {
   "cell_type": "code",
   "execution_count": 96,
   "id": "24a5cdc4",
   "metadata": {},
   "outputs": [
    {
     "data": {
      "text/plain": [
       "<StemContainer object of 3 artists>"
      ]
     },
     "execution_count": 96,
     "metadata": {},
     "output_type": "execute_result"
    },
    {
     "data": {
      "image/png": "[encoded data removed]",
      "text/plain": [
       "<Figure size 1008x288 with 1 Axes>"
      ]
     },
     "metadata": {
      "needs_background": "light"
     },
     "output_type": "display_data"
    }
   ],
   "source": [
    "def HOW_F():\n",
    "    HOW = np.zeros(30, dtype = int)\n",
    "    HOW[0:17] = Z_count_F()[12:29] # TOW is 17 MSBs of 19LSBs of Z_count\n",
    "    HOW[17] = 0 # Alert flag, read pg 88 in IS-GPS-200L.pdf\n",
    "    HOW[18] = 1 # Anti-Spoofing Flag\n",
    "    Sub_frame_ID = int_to_bin(1, 3)\n",
    "    HOW[19:22] = Sub_frame_ID # Sub-frame ID, function needed\n",
    "    \n",
    "    # Solving for bits 23 and 24\n",
    "    #HOW[22] = 0\n",
    "    \n",
    "    if(parity(HOW,TLM)[28] != 0):\n",
    "        HOW[22] = 1\n",
    "        \n",
    "    #HOW[23] = 0\n",
    "    \n",
    "    if(parity(HOW,TLM)[29] != 0):\n",
    "        HOW[23] = 1\n",
    "    \n",
    "    HOW = parity(HOW,TLM)\n",
    "    return(HOW)\n",
    "\n",
    "\n",
    "HOW = HOW_F()\n",
    "plt.stem(HOW)"
   ]
  },
  {
   "cell_type": "code",
   "execution_count": null,
   "id": "2d99898c",
   "metadata": {},
   "outputs": [],
   "source": []
  }
 ],
 "metadata": {
  "kernelspec": {
   "display_name": "Python 3",
   "language": "python",
   "name": "python3"
  },
  "language_info": {
   "codemirror_mode": {
    "name": "ipython",
    "version": 3
   },
   "file_extension": ".py",
   "mimetype": "text/x-python",
   "name": "python",
   "nbconvert_exporter": "python",
   "pygments_lexer": "ipython3",
   "version": "3.8.8"
  }
 },
 "nbformat": 4,
 "nbformat_minor": 5
}
